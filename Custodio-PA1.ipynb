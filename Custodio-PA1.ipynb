{
 "cells": [
  {
   "cell_type": "markdown",
   "id": "88328de1-6e6a-47fe-90da-ec403565f6b6",
   "metadata": {},
   "source": [
    "# ECE2112 - Programming Assignment 1\n",
    "#### Custodio, Louise Angela G.\n",
    "#### 2ECE-D"
   ]
  },
  {
   "cell_type": "markdown",
   "id": "912094c8-f8e2-4910-8121-59f6017c2bd4",
   "metadata": {},
   "source": [
    "### #1  ALPHABET SOUP PROBLEM"
   ]
  },
  {
   "cell_type": "code",
   "execution_count": 43,
   "id": "5953a1e1-1ec1-45f0-8b0c-fccc8e028aa4",
   "metadata": {},
   "outputs": [
    {
     "name": "stdin",
     "output_type": "stream",
     "text": [
      "Enter a word:  hello\n"
     ]
    },
    {
     "name": "stdout",
     "output_type": "stream",
     "text": [
      "ehllo\n"
     ]
    }
   ],
   "source": [
    "def alphabet_soup(str):\n",
    "    word = input(\"Enter a word: \")\n",
    "    print(\"\".join(sorted(word)))\n",
    "\n",
    "alphabet_soup(str)"
   ]
  },
  {
   "cell_type": "markdown",
   "id": "04dd46a1-ef08-45a2-89c4-153c004fc003",
   "metadata": {},
   "source": [
    "### #2 EMOTICON PROBLEM"
   ]
  },
  {
   "cell_type": "code",
   "execution_count": 34,
   "id": "dd90033d-423a-4c75-98a9-f84f0cf7f841",
   "metadata": {},
   "outputs": [
    {
     "name": "stdout",
     "output_type": "stream",
     "text": [
      "Make me :)\n",
      "Show me a :D\n",
      "You're making me :((\n",
      "I am >:(\n"
     ]
    }
   ],
   "source": [
    "def emotify(str):\n",
    "    if(\"smile\" in str):\n",
    "        str=str.replace(\"smile\", \":)\")\n",
    "    elif(\"grin\" in str):\n",
    "        str=str.replace(\"grin\", \":D\")\n",
    "    elif(\"sad\" in str):\n",
    "        str=str.replace(\"sad\", \":((\")\n",
    "    elif(\"mad\" in str):\n",
    "        str=str.replace(\"mad\", \">:(\")\n",
    "    else:\n",
    "        pass\n",
    "    print(str)\n",
    "\n",
    "emotify(\"Make me smile\")\n",
    "emotify(\"Show me a grin\")\n",
    "emotify(\"You're making me sad\")\n",
    "emotify(\"I am mad\")"
   ]
  },
  {
   "cell_type": "markdown",
   "id": "39f0eb9a-23e1-43af-94d9-061a99bc70f7",
   "metadata": {},
   "source": [
    "### #3 UNPACKING LIST PROBLEM"
   ]
  },
  {
   "cell_type": "code",
   "execution_count": 36,
   "id": "343454cc-0c8e-4d21-9d9d-0013739bdac6",
   "metadata": {},
   "outputs": [
    {
     "name": "stdout",
     "output_type": "stream",
     "text": [
      "first: 1    middle: [2, 3, 4, 5]    last: 6\n"
     ]
    }
   ],
   "source": [
    "l = [1, 2, 3, 4, 5, 6]\n",
    "print(\"first:\", l[0], \"   middle:\", l[1:-1], \"   last:\", l[-1])"
   ]
  }
 ],
 "metadata": {
  "kernelspec": {
   "display_name": "Python 3 (ipykernel)",
   "language": "python",
   "name": "python3"
  },
  "language_info": {
   "codemirror_mode": {
    "name": "ipython",
    "version": 3
   },
   "file_extension": ".py",
   "mimetype": "text/x-python",
   "name": "python",
   "nbconvert_exporter": "python",
   "pygments_lexer": "ipython3",
   "version": "3.12.4"
  }
 },
 "nbformat": 4,
 "nbformat_minor": 5
}
